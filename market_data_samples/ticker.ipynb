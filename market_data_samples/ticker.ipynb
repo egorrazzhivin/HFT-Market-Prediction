{
 "cells": [
  {
   "cell_type": "code",
   "execution_count": 1,
   "id": "93b3f354-2df9-45c1-ba97-79f896d49fec",
   "metadata": {},
   "outputs": [],
   "source": [
    "import pandas as pd"
   ]
  },
  {
   "cell_type": "code",
   "execution_count": 2,
   "id": "489c052f-f389-4dc1-b072-c8256a4aae3e",
   "metadata": {},
   "outputs": [],
   "source": [
    "ticker = pd.read_parquet('../ticker.parquet')"
   ]
  },
  {
   "cell_type": "code",
   "execution_count": 3,
   "id": "6eda09ee-d46b-4927-ac94-a923f036ff10",
   "metadata": {},
   "outputs": [
    {
     "data": {
      "text/html": [
       "<div>\n",
       "<style scoped>\n",
       "    .dataframe tbody tr th:only-of-type {\n",
       "        vertical-align: middle;\n",
       "    }\n",
       "\n",
       "    .dataframe tbody tr th {\n",
       "        vertical-align: top;\n",
       "    }\n",
       "\n",
       "    .dataframe thead th {\n",
       "        text-align: right;\n",
       "    }\n",
       "</style>\n",
       "<table border=\"1\" class=\"dataframe\">\n",
       "  <thead>\n",
       "    <tr style=\"text-align: right;\">\n",
       "      <th></th>\n",
       "      <th>local_ts</th>\n",
       "      <th>seq</th>\n",
       "      <th>remote_ts</th>\n",
       "      <th>remote_ts2</th>\n",
       "      <th>bid_price</th>\n",
       "      <th>bid_amount</th>\n",
       "      <th>ask_price</th>\n",
       "      <th>ask_amount</th>\n",
       "    </tr>\n",
       "  </thead>\n",
       "  <tbody>\n",
       "    <tr>\n",
       "      <th>0</th>\n",
       "      <td>1679443200002269696</td>\n",
       "      <td>2664656597671</td>\n",
       "      <td>1679443199998</td>\n",
       "      <td>1679443199993</td>\n",
       "      <td>28091.1</td>\n",
       "      <td>0.885</td>\n",
       "      <td>28091.2</td>\n",
       "      <td>17.243</td>\n",
       "    </tr>\n",
       "    <tr>\n",
       "      <th>1</th>\n",
       "      <td>1679443200023076352</td>\n",
       "      <td>2664656597814</td>\n",
       "      <td>1679443200001</td>\n",
       "      <td>1679443199996</td>\n",
       "      <td>28091.1</td>\n",
       "      <td>0.685</td>\n",
       "      <td>28091.2</td>\n",
       "      <td>17.243</td>\n",
       "    </tr>\n",
       "    <tr>\n",
       "      <th>2</th>\n",
       "      <td>1679443200025819392</td>\n",
       "      <td>2664656597962</td>\n",
       "      <td>1679443200003</td>\n",
       "      <td>1679443199999</td>\n",
       "      <td>28091.1</td>\n",
       "      <td>0.685</td>\n",
       "      <td>28091.2</td>\n",
       "      <td>17.223</td>\n",
       "    </tr>\n",
       "    <tr>\n",
       "      <th>3</th>\n",
       "      <td>1679443200041581312</td>\n",
       "      <td>2664656598238</td>\n",
       "      <td>1679443200007</td>\n",
       "      <td>1679443200003</td>\n",
       "      <td>28091.1</td>\n",
       "      <td>0.686</td>\n",
       "      <td>28091.2</td>\n",
       "      <td>17.223</td>\n",
       "    </tr>\n",
       "    <tr>\n",
       "      <th>4</th>\n",
       "      <td>1679443200045155072</td>\n",
       "      <td>2664656598743</td>\n",
       "      <td>1679443200015</td>\n",
       "      <td>1679443200010</td>\n",
       "      <td>28091.1</td>\n",
       "      <td>0.686</td>\n",
       "      <td>28091.2</td>\n",
       "      <td>16.635</td>\n",
       "    </tr>\n",
       "  </tbody>\n",
       "</table>\n",
       "</div>"
      ],
      "text/plain": [
       "              local_ts            seq      remote_ts     remote_ts2  \\\n",
       "0  1679443200002269696  2664656597671  1679443199998  1679443199993   \n",
       "1  1679443200023076352  2664656597814  1679443200001  1679443199996   \n",
       "2  1679443200025819392  2664656597962  1679443200003  1679443199999   \n",
       "3  1679443200041581312  2664656598238  1679443200007  1679443200003   \n",
       "4  1679443200045155072  2664656598743  1679443200015  1679443200010   \n",
       "\n",
       "   bid_price  bid_amount  ask_price  ask_amount  \n",
       "0    28091.1       0.885    28091.2      17.243  \n",
       "1    28091.1       0.685    28091.2      17.243  \n",
       "2    28091.1       0.685    28091.2      17.223  \n",
       "3    28091.1       0.686    28091.2      17.223  \n",
       "4    28091.1       0.686    28091.2      16.635  "
      ]
     },
     "execution_count": 3,
     "metadata": {},
     "output_type": "execute_result"
    }
   ],
   "source": [
    "ticker.head()"
   ]
  }
 ],
 "metadata": {
  "kernelspec": {
   "display_name": "Python 3 (ipykernel)",
   "language": "python",
   "name": "python3"
  },
  "language_info": {
   "codemirror_mode": {
    "name": "ipython",
    "version": 3
   },
   "file_extension": ".py",
   "mimetype": "text/x-python",
   "name": "python",
   "nbconvert_exporter": "python",
   "pygments_lexer": "ipython3",
   "version": "3.9.16"
  }
 },
 "nbformat": 4,
 "nbformat_minor": 5
}
