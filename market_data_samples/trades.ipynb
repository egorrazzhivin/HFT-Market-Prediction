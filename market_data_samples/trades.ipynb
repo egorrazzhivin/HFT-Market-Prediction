{
 "cells": [
  {
   "cell_type": "code",
   "execution_count": 1,
   "id": "9b011d82-b02d-4007-9271-814827badec3",
   "metadata": {},
   "outputs": [],
   "source": [
    "import pandas as pd"
   ]
  },
  {
   "cell_type": "code",
   "execution_count": 2,
   "id": "c7e5b0b0-dd17-4889-9d40-3385a239877e",
   "metadata": {},
   "outputs": [],
   "source": [
    "trades = pd.read_parquet('../trades.parquet')"
   ]
  },
  {
   "cell_type": "code",
   "execution_count": 3,
   "id": "2ecd7e63-7dd0-441a-b624-1f19a430ef35",
   "metadata": {},
   "outputs": [
    {
     "data": {
      "text/html": [
       "<div>\n",
       "<style scoped>\n",
       "    .dataframe tbody tr th:only-of-type {\n",
       "        vertical-align: middle;\n",
       "    }\n",
       "\n",
       "    .dataframe tbody tr th {\n",
       "        vertical-align: top;\n",
       "    }\n",
       "\n",
       "    .dataframe thead th {\n",
       "        text-align: right;\n",
       "    }\n",
       "</style>\n",
       "<table border=\"1\" class=\"dataframe\">\n",
       "  <thead>\n",
       "    <tr style=\"text-align: right;\">\n",
       "      <th></th>\n",
       "      <th>local_ts</th>\n",
       "      <th>seq</th>\n",
       "      <th>remote_ts</th>\n",
       "      <th>remote_ts2</th>\n",
       "      <th>price</th>\n",
       "      <th>amount</th>\n",
       "      <th>side</th>\n",
       "    </tr>\n",
       "  </thead>\n",
       "  <tbody>\n",
       "    <tr>\n",
       "      <th>0</th>\n",
       "      <td>1679443200000453376</td>\n",
       "      <td>3467110982</td>\n",
       "      <td>1679443199997</td>\n",
       "      <td>1679443199993</td>\n",
       "      <td>28091.1</td>\n",
       "      <td>0.001</td>\n",
       "      <td>S</td>\n",
       "    </tr>\n",
       "    <tr>\n",
       "      <th>1</th>\n",
       "      <td>1679443200001720832</td>\n",
       "      <td>3467110983</td>\n",
       "      <td>1679443199997</td>\n",
       "      <td>1679443199993</td>\n",
       "      <td>28091.1</td>\n",
       "      <td>0.003</td>\n",
       "      <td>S</td>\n",
       "    </tr>\n",
       "    <tr>\n",
       "      <th>2</th>\n",
       "      <td>1679443200022432256</td>\n",
       "      <td>3467110984</td>\n",
       "      <td>1679443200001</td>\n",
       "      <td>1679443199996</td>\n",
       "      <td>28091.1</td>\n",
       "      <td>0.007</td>\n",
       "      <td>S</td>\n",
       "    </tr>\n",
       "    <tr>\n",
       "      <th>3</th>\n",
       "      <td>1679443200022432406</td>\n",
       "      <td>3467110985</td>\n",
       "      <td>1679443200001</td>\n",
       "      <td>1679443199996</td>\n",
       "      <td>28091.1</td>\n",
       "      <td>0.001</td>\n",
       "      <td>S</td>\n",
       "    </tr>\n",
       "    <tr>\n",
       "      <th>4</th>\n",
       "      <td>1679443200022597888</td>\n",
       "      <td>3467110986</td>\n",
       "      <td>1679443200001</td>\n",
       "      <td>1679443199996</td>\n",
       "      <td>28091.1</td>\n",
       "      <td>0.004</td>\n",
       "      <td>S</td>\n",
       "    </tr>\n",
       "  </tbody>\n",
       "</table>\n",
       "</div>"
      ],
      "text/plain": [
       "              local_ts         seq      remote_ts     remote_ts2    price  \\\n",
       "0  1679443200000453376  3467110982  1679443199997  1679443199993  28091.1   \n",
       "1  1679443200001720832  3467110983  1679443199997  1679443199993  28091.1   \n",
       "2  1679443200022432256  3467110984  1679443200001  1679443199996  28091.1   \n",
       "3  1679443200022432406  3467110985  1679443200001  1679443199996  28091.1   \n",
       "4  1679443200022597888  3467110986  1679443200001  1679443199996  28091.1   \n",
       "\n",
       "   amount side  \n",
       "0   0.001    S  \n",
       "1   0.003    S  \n",
       "2   0.007    S  \n",
       "3   0.001    S  \n",
       "4   0.004    S  "
      ]
     },
     "execution_count": 3,
     "metadata": {},
     "output_type": "execute_result"
    }
   ],
   "source": [
    "trades.head()"
   ]
  }
 ],
 "metadata": {
  "kernelspec": {
   "display_name": "Python 3 (ipykernel)",
   "language": "python",
   "name": "python3"
  },
  "language_info": {
   "codemirror_mode": {
    "name": "ipython",
    "version": 3
   },
   "file_extension": ".py",
   "mimetype": "text/x-python",
   "name": "python",
   "nbconvert_exporter": "python",
   "pygments_lexer": "ipython3",
   "version": "3.9.16"
  }
 },
 "nbformat": 4,
 "nbformat_minor": 5
}
